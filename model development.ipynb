{
 "cells": [
  {
   "cell_type": "code",
   "execution_count": 3,
   "id": "5fb32624-0307-4bbe-a6d7-9deb8210f348",
   "metadata": {},
   "outputs": [
    {
     "name": "stdout",
     "output_type": "stream",
     "text": [
      "Index(['background_color', 'most_used_font_face', 'secure_protocol'], dtype='object')\n",
      "Index(['page_load_time', 'image_percentage', 'video_percentage',\n",
      "       'text_percentage', 'internal_links', 'external_links'],\n",
      "      dtype='object')\n",
      "Index(['page_load_time', 'background_color', 'most_used_font_face',\n",
      "       'image_percentage', 'video_percentage', 'text_percentage',\n",
      "       'internal_links', 'external_links', 'ssl_certificate',\n",
      "       'secure_protocol'],\n",
      "      dtype='object')\n"
     ]
    },
    {
     "data": {
      "text/plain": [
       "(652, 216)"
      ]
     },
     "execution_count": 3,
     "metadata": {},
     "output_type": "execute_result"
    }
   ],
   "source": [
    "import numpy as np\n",
    "import pandas as pd\n",
    "import matplotlib.pyplot as plt\n",
    "import seaborn as sns\n",
    "from sklearn.metrics import roc_curve, auc, confusion_matrix, classification_report, precision_recall_curve\n",
    "from sklearn.model_selection import train_test_split, GridSearchCV,learning_curve\n",
    "from sklearn.preprocessing import StandardScaler, OneHotEncoder\n",
    "from sklearn.compose import ColumnTransformer\n",
    "from sklearn.pipeline import Pipeline, make_pipeline\n",
    "from sklearn.linear_model import LogisticRegression\n",
    "from sklearn.ensemble import RandomForestClassifier, GradientBoostingClassifier, AdaBoostClassifier, ExtraTreesClassifier\n",
    "from sklearn.neighbors import KNeighborsClassifier\n",
    "from sklearn.svm import SVC\n",
    "import xgboost as xgb\n",
    "from sklearn.calibration import calibration_curve\n",
    "from sklearn.preprocessing import OneHotEncoder\n",
    "from sklearn.compose import ColumnTransformer\n",
    "from sklearn.preprocessing import StandardScaler\n",
    "\n",
    "\n",
    "# Load your data\n",
    "data = pd.read_csv('cleaned.csv')\n",
    "\n",
    "# Define features and target\n",
    "columns_to_exclude = ['indexing_status', 'label', 'url', 'ssl_issuer', 'ssl_subject', 'ssl_not_before', 'ssl_not_after', 'domain']\n",
    "X = data.drop(columns=columns_to_exclude)\n",
    "y = data['indexing_status']\n",
    "\n",
    "# Identify categorical and numerical columns\n",
    "categorical_cols = X.select_dtypes(include=['object']).columns\n",
    "numerical_cols = X.select_dtypes(include=['number']).columns\n",
    "print(categorical_cols)\n",
    "print(numerical_cols)\n",
    "\n",
    "\n",
    "# Encode categorical features using OneHotEncoder\n",
    "# Define the preprocessor with OneHotEncoder for categorical columns and StandardScaler for numerical columns\n",
    "preprocessor = ColumnTransformer(\n",
    "    transformers=[\n",
    "        ('cat', OneHotEncoder(), categorical_cols),\n",
    "        ('num', StandardScaler(), numerical_cols)\n",
    "    ])\n",
    "\n",
    "# print(X.columns)\n",
    "\n",
    "# Fit and transform the preprocessor on the feature set X\n",
    "X_transformed = preprocessor.fit_transform(X)\n",
    "\n",
    "# Display the transformed data shape\n",
    "X_transformed.shape"
   ]
  },
  {
   "cell_type": "code",
   "execution_count": null,
   "id": "014ebfc4-9f65-4a13-a869-52d75ea61a72",
   "metadata": {},
   "outputs": [],
   "source": []
  }
 ],
 "metadata": {
  "kernelspec": {
   "display_name": "Python 3 (ipykernel)",
   "language": "python",
   "name": "python3"
  },
  "language_info": {
   "codemirror_mode": {
    "name": "ipython",
    "version": 3
   },
   "file_extension": ".py",
   "mimetype": "text/x-python",
   "name": "python",
   "nbconvert_exporter": "python",
   "pygments_lexer": "ipython3",
   "version": "3.11.9"
  }
 },
 "nbformat": 4,
 "nbformat_minor": 5
}
